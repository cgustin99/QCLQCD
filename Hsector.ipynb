{
 "cells": [
  {
   "cell_type": "code",
   "execution_count": 1,
   "metadata": {},
   "outputs": [],
   "source": [
    "from symmer import PauliwordOp, QuantumState\n",
    "import qiskit\n",
    "import numpy as np\n",
    "from basis_states import *\n",
    "from hamiltonian import *"
   ]
  },
  {
   "cell_type": "code",
   "execution_count": 2,
   "metadata": {},
   "outputs": [],
   "source": [
    "N = 6"
   ]
  },
  {
   "cell_type": "code",
   "execution_count": 3,
   "metadata": {},
   "outputs": [],
   "source": [
    "H = H(N)"
   ]
  },
  {
   "cell_type": "code",
   "execution_count": 4,
   "metadata": {},
   "outputs": [],
   "source": [
    "mesons, baryons = get_basis(N)"
   ]
  },
  {
   "cell_type": "code",
   "execution_count": 5,
   "metadata": {},
   "outputs": [
    {
     "name": "stdout",
     "output_type": "stream",
     "text": [
      "To map to the meson sector, we decrease from  12 qubits to  9\n",
      "To map to the baryon sector, we decrease from  12 qubits to  8\n"
     ]
    }
   ],
   "source": [
    "print(\"To map to the meson sector, we decrease from \", 2*N, \"qubits to \", int(np.ceil(np.log2(len(mesons)))))\n",
    "print(\"To map to the baryon sector, we decrease from \", 2*N, \"qubits to \", int(np.ceil(np.log2(len(baryons)))))"
   ]
  },
  {
   "cell_type": "code",
   "execution_count": 6,
   "metadata": {},
   "outputs": [],
   "source": [
    "def one_hot_to_binary_encoding(states):\n",
    "    new_nqubits = int(np.ceil(np.log2(len(states))))\n",
    "    return {format(i, '0' + str(new_nqubits) + 'b'):states[i] for i in range(len(states))}"
   ]
  },
  {
   "cell_type": "code",
   "execution_count": 7,
   "metadata": {},
   "outputs": [],
   "source": [
    "def H_sector(hamiltonian, states):\n",
    "    size = len(states)\n",
    "    H_sector_matrix = np.zeros((size, size), dtype = complex)\n",
    "    \n",
    "    for i in range(len(states)):\n",
    "        for j in range(len(states)):\n",
    "            H_sector_matrix[i][j] = states[i].dagger * hamiltonian * states[j]\n",
    "    return PauliwordOp.from_matrix(H_sector_matrix)"
   ]
  },
  {
   "cell_type": "code",
   "execution_count": 8,
   "metadata": {},
   "outputs": [],
   "source": [
    "oh_binary_dict = one_hot_to_binary_encoding(mesons)"
   ]
  },
  {
   "cell_type": "code",
   "execution_count": 9,
   "metadata": {},
   "outputs": [
    {
     "name": "stderr",
     "output_type": "stream",
     "text": [
      "/Users/carterm.gustin/anaconda3/envs/phd/lib/python3.9/site-packages/symmer/operators/base.py:400: ComplexWarning: Casting complex values to real discards the imaginary part\n",
      "  temp_mat[:matrix.shape[0],\n"
     ]
    },
    {
     "data": {
      "application/vnd.jupyter.widget-view+json": {
       "model_id": "fda55f1b596e437b89f851f2dc1786bb",
       "version_major": 2,
       "version_minor": 0
      },
      "text/plain": [
       "Building operator via projectors diag elements:   0%|          | 0/399 [00:00<?, ?it/s]"
      ]
     },
     "metadata": {},
     "output_type": "display_data"
    },
    {
     "data": {
      "application/vnd.jupyter.widget-view+json": {
       "model_id": "65ca8448b32d40e6912eaf5c6cd75143",
       "version_major": 2,
       "version_minor": 0
      },
      "text/plain": [
       "Building operator via projectors off-diag elements:   0%|          | 0/3120 [00:00<?, ?it/s]"
      ]
     },
     "metadata": {},
     "output_type": "display_data"
    }
   ],
   "source": [
    "H_meson = H_sector(H, mesons)"
   ]
  },
  {
   "cell_type": "code",
   "execution_count": 10,
   "metadata": {},
   "outputs": [],
   "source": [
    "#meson_sector\n",
    "vals, vecs = np.linalg.eigh(H_meson.to_sparse_matrix.toarray())\n",
    "\n",
    "index = 0\n",
    "ground_state = QuantumState.from_array(vecs[:, index].reshape([-1, 1]))\n",
    "ground_energy = vals[index]"
   ]
  },
  {
   "cell_type": "code",
   "execution_count": 11,
   "metadata": {},
   "outputs": [],
   "source": [
    "psi = ground_state.sort('decreasing').cleanup(1e-3)\n",
    "psi_OH = QuantumState([0]*H.n_qubits)*0\n",
    "\n",
    "for state in psi.to_dictionary:\n",
    "    psi_OH += oh_binary_dict[state] * psi.to_dictionary[state]\n"
   ]
  },
  {
   "cell_type": "code",
   "execution_count": 12,
   "metadata": {},
   "outputs": [
    {
     "data": {
      "text/plain": [
       " 0.629+0.000j |100100110011> +\n",
       "-0.629+0.000j |011000110011> +\n",
       "-0.136+0.000j |100101100011> +\n",
       "-0.136+0.000j |011010010011> +\n",
       "-0.128+0.000j |100100110110> +\n",
       "-0.128+0.000j |011000111001> +\n",
       " 0.125+0.000j |011000110110> +\n",
       " 0.125+0.000j |100100111001> +\n",
       " 0.125+0.000j |011001100011> +\n",
       " 0.125+0.000j |100110010011> +\n",
       "-0.123+0.000j |100100011011> +\n",
       "-0.123+0.000j |011000100111> +\n",
       " 0.121+0.000j |011000011011> +\n",
       " 0.121+0.000j |100100100111> +\n",
       " 0.031+0.000j |100101100110> +\n",
       "-0.031+0.000j |011010011001> +\n",
       "-0.030+0.000j |100101001011> +\n",
       "-0.030+0.000j |011010000111> +\n",
       " 0.030+0.000j |100111000011> +\n",
       "-0.030+0.000j |011011000011> +\n",
       "-0.029+0.000j |011000111100> +\n",
       " 0.029+0.000j |100100111100> +\n",
       "-0.028+0.000j |011001100110> +\n",
       " 0.028+0.000j |100110011001> +\n",
       " 0.027+0.000j |011001001011> +\n",
       " 0.027+0.000j |100110000111> +\n",
       "-0.026+0.000j |011000001111> +\n",
       " 0.026+0.000j |100100001111> +\n",
       "-0.026+0.000j |100101101001> +\n",
       " 0.026+0.000j |011010010110> +\n",
       " 0.026+0.000j |100100011110> +\n",
       " 0.026+0.000j |011000101101> +\n",
       "-0.025+0.000j |011000011110> +\n",
       "-0.025+0.000j |100100101101> +\n",
       " 0.024+0.000j |011001101001> +\n",
       "-0.024+0.000j |100110010110> +\n",
       " 0.011+0.000j |010110100011> +\n",
       " 0.011+0.000j |101001010011> +\n",
       " 0.009+0.000j |100101110010> +\n",
       " 0.009+0.000j |011010110001> +\n",
       "-0.008+0.000j |011001110010> +\n",
       "-0.008+0.000j |100110110001> +\n",
       " 0.007+0.000j |100101001110> +\n",
       " 0.007+0.000j |011010001101> +\n",
       "-0.007+0.000j |011001001110> +\n",
       "-0.007+0.000j |100110001101> +\n",
       "-0.007+0.000j |100101101100> +\n",
       "-0.007+0.000j |011010011100> +\n",
       "-0.006+0.000j |100111000110> +\n",
       "-0.006+0.000j |011011001001> +\n",
       " 0.006+0.000j |011011000110> +\n",
       " 0.006+0.000j |100111001001> +\n",
       " 0.006+0.000j |011001101100> +\n",
       " 0.006+0.000j |100110011100> +\n",
       "-0.004+0.000j |100101011010> +\n",
       " 0.004+0.000j |011010100101> +\n",
       " 0.004+0.000j |001100110011> +\n",
       " 0.004+0.000j |110000110011> +\n",
       " 0.004+0.000j |011001011010> +\n",
       "-0.004+0.000j |100110100101> +\n",
       " 0.003+0.000j |010110001011> +\n",
       " 0.003+0.000j |101001000111> +\n",
       "-0.003+0.000j |010110100110> +\n",
       " 0.003+0.000j |101001011001> +\n",
       " 0.002+0.000j |010100101011> +\n",
       " 0.002+0.000j |101000010111> +\n",
       " 0.002+0.000j |010100111010> +\n",
       " 0.002+0.000j |101000110101> +\n",
       " 0.002+0.000j |010110101001> +\n",
       "-0.002+0.000j |101001010110> +\n",
       " 0.002+0.000j |100001110011> +\n",
       "-0.002+0.000j |010010110011> +\n",
       " 0.002+0.000j |100101111000> +\n",
       " 0.002+0.000j |011010110100> +\n",
       "-0.002+0.000j |011001111000> +\n",
       "-0.002+0.000j |100110110100> +\n",
       "-0.002+0.000j |100111010010> +\n",
       "-0.002+0.000j |011011100001> +\n",
       " 0.002+0.000j |100111001100> +\n",
       "-0.002+0.000j |011011001100> +\n",
       " 0.001+0.000j |011011010010> +\n",
       " 0.001+0.000j |100111100001> +\n",
       "-0.001+0.000j |010110110010> +\n",
       "-0.001+0.000j |101001110001>"
      ]
     },
     "execution_count": 12,
     "metadata": {},
     "output_type": "execute_result"
    }
   ],
   "source": [
    "\n",
    "psi_OH.sort('decreasing')"
   ]
  },
  {
   "cell_type": "code",
   "execution_count": null,
   "metadata": {},
   "outputs": [],
   "source": []
  }
 ],
 "metadata": {
  "kernelspec": {
   "display_name": "phd",
   "language": "python",
   "name": "python3"
  },
  "language_info": {
   "codemirror_mode": {
    "name": "ipython",
    "version": 3
   },
   "file_extension": ".py",
   "mimetype": "text/x-python",
   "name": "python",
   "nbconvert_exporter": "python",
   "pygments_lexer": "ipython3",
   "version": "3.9.18"
  },
  "orig_nbformat": 4
 },
 "nbformat": 4,
 "nbformat_minor": 2
}
