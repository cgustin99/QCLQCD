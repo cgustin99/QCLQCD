{
 "cells": [
  {
   "cell_type": "code",
   "execution_count": 559,
   "id": "77fdd0ef",
   "metadata": {},
   "outputs": [],
   "source": [
    "import numpy as np\n",
    "from basis_states import *\n",
    "from hamiltonian import *\n",
    "import symmer as sym"
   ]
  },
  {
   "cell_type": "code",
   "execution_count": 742,
   "id": "541569fd",
   "metadata": {},
   "outputs": [],
   "source": [
    "N = 2\n",
    "a, g, m = 1, 1, 1"
   ]
  },
  {
   "cell_type": "code",
   "execution_count": 743,
   "id": "6a260b22",
   "metadata": {},
   "outputs": [
    {
     "data": {
      "text/plain": [
       " 2.188+0.000j IIII +\n",
       " 0.500+0.000j IIIZ +\n",
       " 0.500+0.000j IIZI +\n",
       "-0.500+0.000j IZII +\n",
       "-0.500+0.000j ZIII +\n",
       "-0.188+0.000j ZZII +\n",
       "-0.250+0.000j IXZX +\n",
       "-0.250+0.000j IYZY +\n",
       "-0.250+0.000j XZXI +\n",
       "-0.250+0.000j YZYI"
      ]
     },
     "execution_count": 743,
     "metadata": {},
     "output_type": "execute_result"
    }
   ],
   "source": [
    "H(N)"
   ]
  },
  {
   "cell_type": "code",
   "execution_count": 744,
   "id": "c59b1043",
   "metadata": {},
   "outputs": [],
   "source": [
    "mesons, baryons = get_basis(N)"
   ]
  },
  {
   "cell_type": "code",
   "execution_count": 745,
   "id": "b2e5fccc",
   "metadata": {},
   "outputs": [
    {
     "data": {
      "text/plain": [
       "([ 1.000+0.000j |0011>,\n",
       "   1.000+0.000j |0110>,\n",
       "   1.000+0.000j |1001>,\n",
       "   1.000+0.000j |1100>],\n",
       " [ 1.000+0.000j |0000>])"
      ]
     },
     "execution_count": 745,
     "metadata": {},
     "output_type": "execute_result"
    }
   ],
   "source": [
    "mesons, baryons"
   ]
  },
  {
   "cell_type": "code",
   "execution_count": 746,
   "id": "6759130e",
   "metadata": {},
   "outputs": [],
   "source": [
    "Qx = Qx_tot(N)\n",
    "Qy = Qy_tot(N)\n",
    "\n",
    "Qz = Qz_tot(N)"
   ]
  },
  {
   "cell_type": "code",
   "execution_count": 747,
   "id": "a40f460d",
   "metadata": {},
   "outputs": [
    {
     "data": {
      "text/plain": [
       "( 0.250+0.000j IIXX +\n",
       "  0.250+0.000j IIYY +\n",
       "  0.250+0.000j XXII +\n",
       "  0.250+0.000j YYII,\n",
       " -0.250+0.000j IIXY +\n",
       "  0.250+0.000j IIYX +\n",
       " -0.250+0.000j XYII +\n",
       "  0.250+0.000j YXII)"
      ]
     },
     "execution_count": 747,
     "metadata": {},
     "output_type": "execute_result"
    }
   ],
   "source": [
    "Qx, Qy"
   ]
  },
  {
   "cell_type": "code",
   "execution_count": 748,
   "id": "85b727bc",
   "metadata": {},
   "outputs": [
    {
     "data": {
      "text/plain": [
       "True"
      ]
     },
     "execution_count": 748,
     "metadata": {},
     "output_type": "execute_result"
    }
   ],
   "source": [
    "Qx.dagger == Qx"
   ]
  },
  {
   "cell_type": "code",
   "execution_count": 749,
   "id": "126674ba",
   "metadata": {},
   "outputs": [
    {
     "data": {
      "text/plain": [
       "False"
      ]
     },
     "execution_count": 749,
     "metadata": {},
     "output_type": "execute_result"
    }
   ],
   "source": [
    "Qx.commutes(Qy)"
   ]
  },
  {
   "cell_type": "code",
   "execution_count": 750,
   "id": "59ed9dd6",
   "metadata": {},
   "outputs": [],
   "source": [
    "qxmat = Qx.to_sparse_matrix.toarray()"
   ]
  },
  {
   "cell_type": "code",
   "execution_count": 751,
   "id": "0b7c4d81",
   "metadata": {},
   "outputs": [],
   "source": [
    "vals, vecs = np.linalg.eigh(qxmat)"
   ]
  },
  {
   "cell_type": "code",
   "execution_count": null,
   "id": "56ae905a",
   "metadata": {},
   "outputs": [],
   "source": []
  },
  {
   "cell_type": "code",
   "execution_count": 752,
   "id": "7e2def13",
   "metadata": {},
   "outputs": [
    {
     "data": {
      "text/plain": [
       "array([-1. , -0.5, -0.5, -0.5, -0.5,  0. ,  0. ,  0. ,  0. ,  0. ,  0. ,\n",
       "        0.5,  0.5,  0.5,  0.5,  1. ])"
      ]
     },
     "execution_count": 752,
     "metadata": {},
     "output_type": "execute_result"
    }
   ],
   "source": [
    "epsilon = 1e-5\n",
    "vals[np.abs(vals) < epsilon] =0\n",
    "vals"
   ]
  },
  {
   "cell_type": "code",
   "execution_count": 753,
   "id": "81b2593f",
   "metadata": {},
   "outputs": [
    {
     "data": {
      "text/plain": [
       "array([ 5,  6,  7,  8,  9, 10])"
      ]
     },
     "execution_count": 753,
     "metadata": {},
     "output_type": "execute_result"
    }
   ],
   "source": [
    "np.where(vals == 0)[0]"
   ]
  },
  {
   "cell_type": "code",
   "execution_count": 754,
   "id": "78656482",
   "metadata": {},
   "outputs": [
    {
     "name": "stdout",
     "output_type": "stream",
     "text": [
      " 1.000+0.000j |0000> \n",
      "\n",
      " 1.000+0.000j |0011> \n",
      "\n",
      " 1.000+0.000j |1100> \n",
      "\n",
      " 1.000+0.000j |1111> \n",
      "\n",
      " 0.707+0.000j |0110> +\n",
      "-0.707+0.000j |1001> \n",
      "\n"
     ]
    }
   ],
   "source": [
    "for index in np.where(vals == 0)[0]:\n",
    "    vecs[:, index][np.abs(vecs[:, index]) < epsilon] = 0\n",
    "    psi = sym.QuantumState.from_array(vecs[:, index].reshape([-1, 1]))\n",
    "    if list((Qz_tot(N) * psi).to_dictionary.values())[0] == 0:\n",
    "        print(psi, \"\\n\")"
   ]
  },
  {
   "cell_type": "code",
   "execution_count": 755,
   "id": "0a5b8a52",
   "metadata": {},
   "outputs": [
    {
     "data": {
      "text/plain": [
       "array([ 0.        +0.j,  0.        +0.j,  0.        +0.j,  0.        +0.j,\n",
       "        0.        +0.j,  0.        +0.j,  0.70710678+0.j,  0.        +0.j,\n",
       "        0.        +0.j, -0.70710678+0.j,  0.        +0.j,  0.        +0.j,\n",
       "        0.        +0.j,  0.        +0.j,  0.        +0.j,  0.        +0.j])"
      ]
     },
     "execution_count": 755,
     "metadata": {},
     "output_type": "execute_result"
    }
   ],
   "source": [
    "index = 9\n",
    "vecs[:, index][np.abs(vecs[:, index]) < epsilon] = 0\n",
    "vecs[:, index]"
   ]
  },
  {
   "cell_type": "code",
   "execution_count": 756,
   "id": "e41e57ee",
   "metadata": {},
   "outputs": [
    {
     "data": {
      "text/plain": [
       " 0.707+0.000j |0110> +\n",
       "-0.707+0.000j |1001>"
      ]
     },
     "execution_count": 756,
     "metadata": {},
     "output_type": "execute_result"
    }
   ],
   "source": [
    "psi = sym.QuantumState.from_array(vecs[:, index].reshape([-1, 1]))\n",
    "psi"
   ]
  },
  {
   "cell_type": "code",
   "execution_count": 757,
   "id": "ef825543",
   "metadata": {},
   "outputs": [
    {
     "data": {
      "text/plain": []
     },
     "execution_count": 757,
     "metadata": {},
     "output_type": "execute_result"
    }
   ],
   "source": [
    "Qy_tot(N) * psi \n"
   ]
  },
  {
   "cell_type": "code",
   "execution_count": 758,
   "id": "bd721d9f",
   "metadata": {},
   "outputs": [
    {
     "data": {
      "text/plain": []
     },
     "execution_count": 758,
     "metadata": {},
     "output_type": "execute_result"
    }
   ],
   "source": [
    "Qx * psi"
   ]
  },
  {
   "cell_type": "code",
   "execution_count": 759,
   "id": "7dfabbdd",
   "metadata": {},
   "outputs": [
    {
     "data": {
      "text/plain": [
       "-0.250+0.000j IIIZ +\n",
       " 0.250+0.000j IIZI +\n",
       "-0.250+0.000j IZII +\n",
       " 0.250+0.000j ZIII"
      ]
     },
     "execution_count": 759,
     "metadata": {},
     "output_type": "execute_result"
    }
   ],
   "source": [
    "Qz = Qz_tot(N)\n",
    "Qz"
   ]
  },
  {
   "cell_type": "code",
   "execution_count": 760,
   "id": "e66ff83b",
   "metadata": {},
   "outputs": [
    {
     "data": {
      "text/plain": [
       "[ 1.000+0.000j |0011>,\n",
       "  1.000+0.000j |0110>,\n",
       "  1.000+0.000j |1001>,\n",
       "  1.000+0.000j |1100>]"
      ]
     },
     "execution_count": 760,
     "metadata": {},
     "output_type": "execute_result"
    }
   ],
   "source": [
    "mesons"
   ]
  },
  {
   "cell_type": "code",
   "execution_count": 761,
   "id": "23756984",
   "metadata": {},
   "outputs": [
    {
     "data": {
      "text/plain": [
       " 0.250+0.000j IIIZ +\n",
       " 0.250+0.000j IIZI +\n",
       " 0.250+0.000j IZII +\n",
       " 0.250+0.000j ZIII"
      ]
     },
     "execution_count": 761,
     "metadata": {},
     "output_type": "execute_result"
    }
   ],
   "source": [
    "B(N)"
   ]
  },
  {
   "cell_type": "code",
   "execution_count": 762,
   "id": "20972e41",
   "metadata": {},
   "outputs": [
    {
     "data": {
      "text/plain": [
       "array([[ 0.25,  0.25,  0.25,  0.25],\n",
       "       [ 0.25,  0.25,  0.25, -0.25],\n",
       "       [ 0.25,  0.25, -0.25,  0.25],\n",
       "       [ 0.25,  0.25, -0.25, -0.25],\n",
       "       [ 0.25, -0.25,  0.25,  0.25],\n",
       "       [ 0.25, -0.25,  0.25, -0.25],\n",
       "       [ 0.25, -0.25, -0.25,  0.25],\n",
       "       [ 0.25, -0.25, -0.25, -0.25],\n",
       "       [-0.25,  0.25,  0.25,  0.25],\n",
       "       [-0.25,  0.25,  0.25, -0.25],\n",
       "       [-0.25,  0.25, -0.25,  0.25],\n",
       "       [-0.25,  0.25, -0.25, -0.25],\n",
       "       [-0.25, -0.25,  0.25,  0.25],\n",
       "       [-0.25, -0.25,  0.25, -0.25],\n",
       "       [-0.25, -0.25, -0.25,  0.25],\n",
       "       [-0.25, -0.25, -0.25, -0.25]])"
      ]
     },
     "execution_count": 762,
     "metadata": {},
     "output_type": "execute_result"
    }
   ],
   "source": [
    "(-1)**bitstrings * 1/4"
   ]
  },
  {
   "cell_type": "code",
   "execution_count": 763,
   "id": "92216245",
   "metadata": {},
   "outputs": [
    {
     "name": "stdout",
     "output_type": "stream",
     "text": [
      "valid B states: 7\n",
      "valid Qz states: 6\n",
      "valid Qz AND B states: 5\n",
      "out of a possible: 16\n"
     ]
    },
    {
     "data": {
      "text/plain": [
       "array([[0, 0, 0, 0],\n",
       "       [0, 0, 1, 1],\n",
       "       [0, 1, 1, 0],\n",
       "       [1, 0, 0, 1],\n",
       "       [1, 1, 0, 0]])"
      ]
     },
     "execution_count": 763,
     "metadata": {},
     "output_type": "execute_result"
    }
   ],
   "source": [
    "## speedup choose Qz bitrings  by rules determined by combinations\n",
    "# (number of spin up == spin down!)\n",
    "n_qubits = 2*N\n",
    "\n",
    "bitstrings = (\n",
    "                (\n",
    "                        np.arange(2 ** n_qubits).reshape([-1, 1]) &\n",
    "                        (1 << np.arange(n_qubits))[::-1]\n",
    "                ) > 0).astype(int)\n",
    "\n",
    "sign_array = np.array([(-1)**(i%2) for i in range(n_qubits)])\n",
    "Qz_mask = np.sum(bitstrings*sign_array, axis=1) == 0\n",
    "\n",
    "## speedup by slicing bitstrings with Qz_mask!!!\n",
    "\n",
    "B_arr = (-1)**bitstrings * 1/4\n",
    "B_mask = np.logical_or(np.sum(B_arr, axis=1) == 0, np.sum(B_arr, axis=1) == 1)\n",
    "\n",
    "print('valid B states:', np.sum(B_mask))\n",
    "print('valid Qz states:', np.sum(Qz_mask))\n",
    "QzandB_mask = np.logical_and(B_mask, Qz_mask)\n",
    "print('valid Qz AND B states:', np.sum(QzandB_mask))\n",
    "print('out of a possible:', 2**(2*N))\n",
    "valid_bitstrings = bitstrings[QzandB_mask, :]\n",
    "valid_bitstrings"
   ]
  },
  {
   "cell_type": "code",
   "execution_count": 764,
   "id": "262727c5",
   "metadata": {},
   "outputs": [
    {
     "data": {
      "text/plain": [
       "array([0, 0, 0, 0])"
      ]
     },
     "execution_count": 764,
     "metadata": {},
     "output_type": "execute_result"
    }
   ],
   "source": [
    "bitstrings[B_mask, :][0]"
   ]
  },
  {
   "cell_type": "code",
   "execution_count": 765,
   "id": "cc8313df",
   "metadata": {},
   "outputs": [
    {
     "data": {
      "text/plain": [
       "array([0.75, 1.  ])"
      ]
     },
     "execution_count": 765,
     "metadata": {},
     "output_type": "execute_result"
    }
   ],
   "source": [
    "np.sum((bitstrings*1/4)[-2:,:], axis=1)"
   ]
  },
  {
   "cell_type": "code",
   "execution_count": 766,
   "id": "07d4bd63",
   "metadata": {},
   "outputs": [
    {
     "name": "stdout",
     "output_type": "stream",
     "text": [
      "(1+0j)\n",
      "0j\n",
      "0j\n",
      "0j\n",
      "0j\n"
     ]
    }
   ],
   "source": [
    "for state in valid_bitstrings:\n",
    "    psi = sym.QuantumState(state, [1])\n",
    "    print(psi.dagger * B(N) * psi)"
   ]
  },
  {
   "cell_type": "code",
   "execution_count": 767,
   "id": "243a6574",
   "metadata": {},
   "outputs": [
    {
     "data": {
      "text/plain": [
       "-0.250+0.000j IIXY +\n",
       " 0.250+0.000j IIYX +\n",
       "-0.250+0.000j XYII +\n",
       " 0.250+0.000j YXII"
      ]
     },
     "execution_count": 767,
     "metadata": {},
     "output_type": "execute_result"
    }
   ],
   "source": [
    "Qy"
   ]
  },
  {
   "cell_type": "code",
   "execution_count": null,
   "id": "9b12c9b0",
   "metadata": {},
   "outputs": [],
   "source": []
  },
  {
   "cell_type": "code",
   "execution_count": 768,
   "id": "47e09c8f",
   "metadata": {},
   "outputs": [
    {
     "name": "stdout",
     "output_type": "stream",
     "text": [
      "Help on method rotate_onto_single_qubit_paulis in module symmer.operators.independent_op:\n",
      "\n",
      "rotate_onto_single_qubit_paulis() -> 'IndependentOp' method of symmer.operators.independent_op.IndependentOp instance\n",
      "    Returns the rotated single-qubit Pauli stabilizers.\n",
      "    \n",
      "    Returns: \n",
      "        Rotated single-qubit Pauli stabilizers.\n",
      "\n"
     ]
    }
   ],
   "source": [
    "help(QT.symmetry_generators.rotate_onto_single_qubit_paulis)"
   ]
  },
  {
   "cell_type": "code",
   "execution_count": 769,
   "id": "a1d876e3",
   "metadata": {},
   "outputs": [
    {
     "name": "stdout",
     "output_type": "stream",
     "text": [
      "-1 IIIZ \n",
      "1 IIZI \n",
      "-1 IZII \n",
      "1 ZIII\n"
     ]
    },
    {
     "data": {
      "text/plain": [
       " 0.250-0.000j IIZI +\n",
       " 0.250-0.000j IIZZ +\n",
       " 0.250-0.000j ZIII +\n",
       " 0.250-0.000j ZZII"
      ]
     },
     "execution_count": 769,
     "metadata": {},
     "output_type": "execute_result"
    }
   ],
   "source": [
    "from symmer.projection import QubitTapering\n",
    "\n",
    "QT_X = QubitTapering(Qx, target_sqp='Z')\n",
    "# print(QT.symmetry_generators)\n",
    "print(QT_X.symmetry_generators.rotate_onto_single_qubit_paulis())\n",
    "\n",
    "stabilizer_rotations = QT_X.symmetry_generators.stabilizer_rotations\n",
    "\n",
    "Qx_inZ_basis = Qx.perform_rotations(stabilizer_rotations)\n",
    "Qx_inZ_basis"
   ]
  },
  {
   "cell_type": "code",
   "execution_count": 770,
   "id": "426a42d9",
   "metadata": {},
   "outputs": [
    {
     "data": {
      "text/plain": [
       "-0.250+0.000j IIXY +\n",
       " 0.250+0.000j IIYX +\n",
       "-0.250+0.000j XYII +\n",
       " 0.250+0.000j YXII"
      ]
     },
     "execution_count": 770,
     "metadata": {},
     "output_type": "execute_result"
    }
   ],
   "source": [
    "Qy\n"
   ]
  },
  {
   "cell_type": "code",
   "execution_count": 771,
   "id": "f790fe0d",
   "metadata": {},
   "outputs": [
    {
     "name": "stdout",
     "output_type": "stream",
     "text": [
      "-1 IIIZ \n",
      "-1 IIZI \n",
      "-1 IZII \n",
      "-1 ZIII\n"
     ]
    },
    {
     "data": {
      "text/plain": [
       " 0.250-0.000j IIIZ +\n",
       " 0.250-0.000j IIZZ +\n",
       " 0.250-0.000j IZII +\n",
       " 0.250-0.000j ZZII"
      ]
     },
     "execution_count": 771,
     "metadata": {},
     "output_type": "execute_result"
    }
   ],
   "source": [
    "from symmer.projection import QubitTapering\n",
    "\n",
    "QT_Y = QubitTapering(Qy, target_sqp='Z')\n",
    "# print(QT.symmetry_generators)\n",
    "print(QT_Y.symmetry_generators.rotate_onto_single_qubit_paulis())\n",
    "\n",
    "stabilizer_rotations_Y = QT_Y.symmetry_generators.stabilizer_rotations\n",
    "\n",
    "Qy_inZ_basis = Qy.perform_rotations(stabilizer_rotations_Y)\n",
    "Qy_inZ_basis"
   ]
  },
  {
   "cell_type": "code",
   "execution_count": 772,
   "id": "5b5491bd",
   "metadata": {},
   "outputs": [],
   "source": [
    "from symmer.evolution.exponentiation import exponentiate_single_Pop"
   ]
  },
  {
   "cell_type": "code",
   "execution_count": 774,
   "id": "2a6fdd45",
   "metadata": {},
   "outputs": [
    {
     "data": {
      "text/plain": [
       " 0.250+0.000j IIIZ +\n",
       " 0.250+0.000j IIZZ +\n",
       " 0.250+0.000j IZII +\n",
       " 0.250+0.000j ZZII"
      ]
     },
     "execution_count": 774,
     "metadata": {},
     "output_type": "execute_result"
    }
   ],
   "source": [
    "R = sym.PauliwordOp.from_list(['I'*Qy.n_terms])\n",
    "for index, (P_k, angle) in enumerate(stabilizer_rotations_Y[::-1]):\n",
    "    angle = 1j*np.pi/4\n",
    "    R*=exponentiate_single_Pop(P_k.multiply_by_constant(angle))\n",
    "\n",
    "R * Qy * R.dagger"
   ]
  },
  {
   "cell_type": "code",
   "execution_count": null,
   "id": "07488d68",
   "metadata": {},
   "outputs": [],
   "source": []
  },
  {
   "cell_type": "code",
   "execution_count": 513,
   "id": "b818eab4",
   "metadata": {},
   "outputs": [
    {
     "ename": "AssertionError",
     "evalue": "PauliwordOps defined for different number of qubits",
     "output_type": "error",
     "traceback": [
      "\u001b[0;31m---------------------------------------------------------------------------\u001b[0m",
      "\u001b[0;31mAssertionError\u001b[0m                            Traceback (most recent call last)",
      "\u001b[1;32m/Users/carterm.gustin/Documents/PhDCode/QCLQCD/color_neutral.ipynb Cell 35\u001b[0m line \u001b[0;36m2\n\u001b[1;32m      <a href='vscode-notebook-cell:/Users/carterm.gustin/Documents/PhDCode/QCLQCD/color_neutral.ipynb#X66sZmlsZQ%3D%3D?line=0'>1</a>\u001b[0m state \u001b[39m=\u001b[39m sym\u001b[39m.\u001b[39mQuantumState([[\u001b[39m1\u001b[39m, \u001b[39m0\u001b[39m, \u001b[39m1\u001b[39m, \u001b[39m0\u001b[39m, \u001b[39m1\u001b[39m, \u001b[39m1\u001b[39m, \u001b[39m1\u001b[39m, \u001b[39m1\u001b[39m]])\n\u001b[0;32m----> <a href='vscode-notebook-cell:/Users/carterm.gustin/Documents/PhDCode/QCLQCD/color_neutral.ipynb#X66sZmlsZQ%3D%3D?line=1'>2</a>\u001b[0m Qy_inZ_basis \u001b[39m*\u001b[39;49m state\n",
      "File \u001b[0;32m~/anaconda3/envs/phd/lib/python3.9/site-packages/symmer/operators/base.py:870\u001b[0m, in \u001b[0;36mPauliwordOp.__mul__\u001b[0;34m(self, mul_obj, zero_threshold)\u001b[0m\n\u001b[1;32m    867\u001b[0m     pauli_mult_out \u001b[39m=\u001b[39m PwordOp\u001b[39m.\u001b[39mdagger\u001b[39m.\u001b[39m_multiply_by_operator(\n\u001b[1;32m    868\u001b[0m         \u001b[39mself\u001b[39m\u001b[39m.\u001b[39mdagger, zero_threshold\u001b[39m=\u001b[39mzero_threshold)\u001b[39m.\u001b[39mdagger\n\u001b[1;32m    869\u001b[0m \u001b[39melse\u001b[39;00m:\n\u001b[0;32m--> 870\u001b[0m     pauli_mult_out \u001b[39m=\u001b[39m \u001b[39mself\u001b[39;49m\u001b[39m.\u001b[39;49m_multiply_by_operator(\n\u001b[1;32m    871\u001b[0m         PwordOp, zero_threshold\u001b[39m=\u001b[39;49mzero_threshold)\n\u001b[1;32m    873\u001b[0m \u001b[39mif\u001b[39;00m \u001b[39misinstance\u001b[39m(mul_obj, QuantumState):\n\u001b[1;32m    874\u001b[0m     coeff_vec \u001b[39m=\u001b[39m pauli_mult_out\u001b[39m.\u001b[39mcoeff_vec\u001b[39m*\u001b[39m(\u001b[39m1\u001b[39mj\u001b[39m*\u001b[39m\u001b[39m*\u001b[39mpauli_mult_out\u001b[39m.\u001b[39mY_count)\n",
      "File \u001b[0;32m~/anaconda3/envs/phd/lib/python3.9/site-packages/symmer/operators/base.py:796\u001b[0m, in \u001b[0;36mPauliwordOp._multiply_by_operator\u001b[0;34m(self, PwordOp, zero_threshold)\u001b[0m\n\u001b[1;32m    782\u001b[0m \u001b[39mdef\u001b[39;00m \u001b[39m_multiply_by_operator\u001b[39m(\u001b[39mself\u001b[39m, \n\u001b[1;32m    783\u001b[0m         PwordOp: Union[\u001b[39m\"\u001b[39m\u001b[39mPauliwordOp\u001b[39m\u001b[39m\"\u001b[39m, \u001b[39m\"\u001b[39m\u001b[39mQuantumState\u001b[39m\u001b[39m\"\u001b[39m, \u001b[39mcomplex\u001b[39m],\n\u001b[1;32m    784\u001b[0m         zero_threshold: \u001b[39mfloat\u001b[39m \u001b[39m=\u001b[39m \u001b[39m1e-15\u001b[39m\n\u001b[1;32m    785\u001b[0m     ) \u001b[39m-\u001b[39m\u001b[39m>\u001b[39m \u001b[39m\"\u001b[39m\u001b[39mPauliwordOp\u001b[39m\u001b[39m\"\u001b[39m:\n\u001b[1;32m    786\u001b[0m \u001b[39m    \u001b[39m\u001b[39m\"\"\" \u001b[39;00m\n\u001b[1;32m    787\u001b[0m \u001b[39m    Right-multiplication of this PauliwordOp by another PauliwordOp or QuantumState ket.\u001b[39;00m\n\u001b[1;32m    788\u001b[0m \n\u001b[0;32m   (...)\u001b[0m\n\u001b[1;32m    794\u001b[0m \u001b[39m        PauliwordOp: The resulting PauliwordOp after multiplication.\u001b[39;00m\n\u001b[1;32m    795\u001b[0m \u001b[39m    \"\"\"\u001b[39;00m\n\u001b[0;32m--> 796\u001b[0m     \u001b[39massert\u001b[39;00m (\u001b[39mself\u001b[39m\u001b[39m.\u001b[39mn_qubits \u001b[39m==\u001b[39m PwordOp\u001b[39m.\u001b[39mn_qubits), \u001b[39m'\u001b[39m\u001b[39mPauliwordOps defined for different number of qubits\u001b[39m\u001b[39m'\u001b[39m\n\u001b[1;32m    798\u001b[0m     \u001b[39mif\u001b[39;00m PwordOp\u001b[39m.\u001b[39mn_terms \u001b[39m==\u001b[39m \u001b[39m1\u001b[39m:\n\u001b[1;32m    799\u001b[0m         \u001b[39m# no cleanup if multiplying by a single term (faster)\u001b[39;00m\n\u001b[1;32m    800\u001b[0m         symp_stack, coeff_stack \u001b[39m=\u001b[39m \u001b[39mself\u001b[39m\u001b[39m.\u001b[39m_mul_symplectic(\n\u001b[1;32m    801\u001b[0m             symp_vec\u001b[39m=\u001b[39mPwordOp\u001b[39m.\u001b[39msymp_matrix, \n\u001b[1;32m    802\u001b[0m             coeff\u001b[39m=\u001b[39mPwordOp\u001b[39m.\u001b[39mcoeff_vec, \n\u001b[1;32m    803\u001b[0m             Y_count_in\u001b[39m=\u001b[39m\u001b[39mself\u001b[39m\u001b[39m.\u001b[39mY_count\u001b[39m+\u001b[39mPwordOp\u001b[39m.\u001b[39mY_count\n\u001b[1;32m    804\u001b[0m         )\n",
      "\u001b[0;31mAssertionError\u001b[0m: PauliwordOps defined for different number of qubits"
     ]
    }
   ],
   "source": [
    "state = sym.QuantumState([[1, 0, 1, 0, 1, 1, 1, 1]])\n",
    "Qy_inZ_basis * state\n"
   ]
  },
  {
   "cell_type": "code",
   "execution_count": null,
   "id": "1f79635e",
   "metadata": {},
   "outputs": [
    {
     "ename": "AssertionError",
     "evalue": "PauliwordOps defined for different number of qubits",
     "output_type": "error",
     "traceback": [
      "\u001b[0;31m---------------------------------------------------------------------------\u001b[0m",
      "\u001b[0;31mAssertionError\u001b[0m                            Traceback (most recent call last)",
      "\u001b[1;32m/Users/carterm.gustin/Documents/PhDCode/QCLQCD/color_neutral.ipynb Cell 36\u001b[0m line \u001b[0;36m1\n\u001b[0;32m----> <a href='vscode-notebook-cell:/Users/carterm.gustin/Documents/PhDCode/QCLQCD/color_neutral.ipynb#Y103sZmlsZQ%3D%3D?line=0'>1</a>\u001b[0m state_normal \u001b[39m=\u001b[39m R\u001b[39m.\u001b[39;49mdagger \u001b[39m*\u001b[39;49m state\n\u001b[1;32m      <a href='vscode-notebook-cell:/Users/carterm.gustin/Documents/PhDCode/QCLQCD/color_neutral.ipynb#Y103sZmlsZQ%3D%3D?line=1'>2</a>\u001b[0m Qy\u001b[39m*\u001b[39mstate_normal\n",
      "File \u001b[0;32m~/anaconda3/envs/phd/lib/python3.9/site-packages/symmer/operators/base.py:870\u001b[0m, in \u001b[0;36mPauliwordOp.__mul__\u001b[0;34m(self, mul_obj, zero_threshold)\u001b[0m\n\u001b[1;32m    867\u001b[0m     pauli_mult_out \u001b[39m=\u001b[39m PwordOp\u001b[39m.\u001b[39mdagger\u001b[39m.\u001b[39m_multiply_by_operator(\n\u001b[1;32m    868\u001b[0m         \u001b[39mself\u001b[39m\u001b[39m.\u001b[39mdagger, zero_threshold\u001b[39m=\u001b[39mzero_threshold)\u001b[39m.\u001b[39mdagger\n\u001b[1;32m    869\u001b[0m \u001b[39melse\u001b[39;00m:\n\u001b[0;32m--> 870\u001b[0m     pauli_mult_out \u001b[39m=\u001b[39m \u001b[39mself\u001b[39;49m\u001b[39m.\u001b[39;49m_multiply_by_operator(\n\u001b[1;32m    871\u001b[0m         PwordOp, zero_threshold\u001b[39m=\u001b[39;49mzero_threshold)\n\u001b[1;32m    873\u001b[0m \u001b[39mif\u001b[39;00m \u001b[39misinstance\u001b[39m(mul_obj, QuantumState):\n\u001b[1;32m    874\u001b[0m     coeff_vec \u001b[39m=\u001b[39m pauli_mult_out\u001b[39m.\u001b[39mcoeff_vec\u001b[39m*\u001b[39m(\u001b[39m1\u001b[39mj\u001b[39m*\u001b[39m\u001b[39m*\u001b[39mpauli_mult_out\u001b[39m.\u001b[39mY_count)\n",
      "File \u001b[0;32m~/anaconda3/envs/phd/lib/python3.9/site-packages/symmer/operators/base.py:796\u001b[0m, in \u001b[0;36mPauliwordOp._multiply_by_operator\u001b[0;34m(self, PwordOp, zero_threshold)\u001b[0m\n\u001b[1;32m    782\u001b[0m \u001b[39mdef\u001b[39;00m \u001b[39m_multiply_by_operator\u001b[39m(\u001b[39mself\u001b[39m, \n\u001b[1;32m    783\u001b[0m         PwordOp: Union[\u001b[39m\"\u001b[39m\u001b[39mPauliwordOp\u001b[39m\u001b[39m\"\u001b[39m, \u001b[39m\"\u001b[39m\u001b[39mQuantumState\u001b[39m\u001b[39m\"\u001b[39m, \u001b[39mcomplex\u001b[39m],\n\u001b[1;32m    784\u001b[0m         zero_threshold: \u001b[39mfloat\u001b[39m \u001b[39m=\u001b[39m \u001b[39m1e-15\u001b[39m\n\u001b[1;32m    785\u001b[0m     ) \u001b[39m-\u001b[39m\u001b[39m>\u001b[39m \u001b[39m\"\u001b[39m\u001b[39mPauliwordOp\u001b[39m\u001b[39m\"\u001b[39m:\n\u001b[1;32m    786\u001b[0m \u001b[39m    \u001b[39m\u001b[39m\"\"\" \u001b[39;00m\n\u001b[1;32m    787\u001b[0m \u001b[39m    Right-multiplication of this PauliwordOp by another PauliwordOp or QuantumState ket.\u001b[39;00m\n\u001b[1;32m    788\u001b[0m \n\u001b[0;32m   (...)\u001b[0m\n\u001b[1;32m    794\u001b[0m \u001b[39m        PauliwordOp: The resulting PauliwordOp after multiplication.\u001b[39;00m\n\u001b[1;32m    795\u001b[0m \u001b[39m    \"\"\"\u001b[39;00m\n\u001b[0;32m--> 796\u001b[0m     \u001b[39massert\u001b[39;00m (\u001b[39mself\u001b[39m\u001b[39m.\u001b[39mn_qubits \u001b[39m==\u001b[39m PwordOp\u001b[39m.\u001b[39mn_qubits), \u001b[39m'\u001b[39m\u001b[39mPauliwordOps defined for different number of qubits\u001b[39m\u001b[39m'\u001b[39m\n\u001b[1;32m    798\u001b[0m     \u001b[39mif\u001b[39;00m PwordOp\u001b[39m.\u001b[39mn_terms \u001b[39m==\u001b[39m \u001b[39m1\u001b[39m:\n\u001b[1;32m    799\u001b[0m         \u001b[39m# no cleanup if multiplying by a single term (faster)\u001b[39;00m\n\u001b[1;32m    800\u001b[0m         symp_stack, coeff_stack \u001b[39m=\u001b[39m \u001b[39mself\u001b[39m\u001b[39m.\u001b[39m_mul_symplectic(\n\u001b[1;32m    801\u001b[0m             symp_vec\u001b[39m=\u001b[39mPwordOp\u001b[39m.\u001b[39msymp_matrix, \n\u001b[1;32m    802\u001b[0m             coeff\u001b[39m=\u001b[39mPwordOp\u001b[39m.\u001b[39mcoeff_vec, \n\u001b[1;32m    803\u001b[0m             Y_count_in\u001b[39m=\u001b[39m\u001b[39mself\u001b[39m\u001b[39m.\u001b[39mY_count\u001b[39m+\u001b[39mPwordOp\u001b[39m.\u001b[39mY_count\n\u001b[1;32m    804\u001b[0m         )\n",
      "\u001b[0;31mAssertionError\u001b[0m: PauliwordOps defined for different number of qubits"
     ]
    }
   ],
   "source": [
    "state_normal = R.dagger * state\n",
    "Qy*state_normal"
   ]
  },
  {
   "cell_type": "code",
   "execution_count": null,
   "id": "ced39f6a",
   "metadata": {},
   "outputs": [
    {
     "data": {
      "text/plain": [
       " 0.000+0.500j |0000> +\n",
       " 0.500+0.000j |0011> +\n",
       "-0.500+0.000j |1100> +\n",
       " 0.000+0.500j |1111>"
      ]
     },
     "execution_count": 390,
     "metadata": {},
     "output_type": "execute_result"
    }
   ],
   "source": [
    "state_normal"
   ]
  },
  {
   "cell_type": "code",
   "execution_count": null,
   "id": "dd8d22e0",
   "metadata": {},
   "outputs": [
    {
     "data": {
      "text/plain": [
       "array([False,  True, False,  True, False,  True])"
      ]
     },
     "execution_count": 391,
     "metadata": {},
     "output_type": "execute_result"
    }
   ],
   "source": [
    "odd_Qy_mask = np.array(list(zip([False]*N, [True]*N))).reshape([-1])\n",
    "odd_Qy_mask"
   ]
  },
  {
   "cell_type": "code",
   "execution_count": null,
   "id": "febb8a27",
   "metadata": {},
   "outputs": [
    {
     "data": {
      "text/plain": [
       "array([[0, 0, 0, ..., 0, 0, 0],\n",
       "       [0, 0, 0, ..., 0, 0, 1],\n",
       "       [0, 0, 0, ..., 0, 1, 0],\n",
       "       ...,\n",
       "       [1, 1, 1, ..., 1, 0, 1],\n",
       "       [1, 1, 1, ..., 1, 1, 0],\n",
       "       [1, 1, 1, ..., 1, 1, 1]])"
      ]
     },
     "execution_count": 226,
     "metadata": {},
     "output_type": "execute_result"
    }
   ],
   "source": [
    "bitstrings[]"
   ]
  },
  {
   "cell_type": "code",
   "execution_count": null,
   "id": "1844fc84",
   "metadata": {},
   "outputs": [
    {
     "data": {
      "text/plain": [
       "-0.250+0.000j IIIIIIIIIIIIIIIZ +\n",
       " 0.250+0.000j IIIIIIIIIIIIIIZI +\n",
       "-0.250+0.000j IIIIIIIIIIIIIZII +\n",
       " 0.250+0.000j IIIIIIIIIIIIZIII +\n",
       "-0.250+0.000j IIIIIIIIIIIZIIII +\n",
       " 0.250+0.000j IIIIIIIIIIZIIIII +\n",
       "-0.250+0.000j IIIIIIIIIZIIIIII +\n",
       " 0.250+0.000j IIIIIIIIZIIIIIII +\n",
       "-0.250+0.000j IIIIIIIZIIIIIIII +\n",
       " 0.250+0.000j IIIIIIZIIIIIIIII +\n",
       "-0.250+0.000j IIIIIZIIIIIIIIII +\n",
       " 0.250+0.000j IIIIZIIIIIIIIIII +\n",
       "-0.250+0.000j IIIZIIIIIIIIIIII +\n",
       " 0.250+0.000j IIZIIIIIIIIIIIII +\n",
       "-0.250+0.000j IZIIIIIIIIIIIIII +\n",
       " 0.250+0.000j ZIIIIIIIIIIIIIII"
      ]
     },
     "execution_count": 219,
     "metadata": {},
     "output_type": "execute_result"
    }
   ],
   "source": [
    "Qz = Qz_tot(N)\n",
    "Qz"
   ]
  },
  {
   "cell_type": "code",
   "execution_count": 776,
   "id": "0e53a685",
   "metadata": {},
   "outputs": [
    {
     "data": {
      "text/plain": [
       "array([[1, 0, 1, 0],\n",
       "       [1, 0, 1, 1],\n",
       "       [1, 1, 1, 0],\n",
       "       [1, 1, 1, 1]])"
      ]
     },
     "execution_count": 776,
     "metadata": {},
     "output_type": "execute_result"
    }
   ],
   "source": [
    "import itertools\n",
    "allowed_Y = [(1,0), (1,1)]\n",
    "product = list(itertools.product(allowed_Y, repeat=N))\n",
    "\n",
    "arr = np.array(product)\n",
    "arr = arr.reshape(arr.shape[0],-1)\n",
    "\n",
    "arr"
   ]
  },
  {
   "cell_type": "code",
   "execution_count": 783,
   "id": "b0a0ccd6",
   "metadata": {},
   "outputs": [
    {
     "data": {
      "text/plain": [
       "array([[1, 0, 1, 0],\n",
       "       [1, 0, 1, 1],\n",
       "       [1, 1, 1, 0],\n",
       "       [1, 1, 1, 1]])"
      ]
     },
     "execution_count": 783,
     "metadata": {},
     "output_type": "execute_result"
    }
   ],
   "source": [
    "arr"
   ]
  },
  {
   "cell_type": "code",
   "execution_count": 786,
   "id": "3736cad4",
   "metadata": {},
   "outputs": [
    {
     "data": {
      "text/plain": [
       "{0:  0.500+0.000j |0000> +\n",
       "  0.000-0.500j |0011> +\n",
       "  0.000-0.500j |1100> +\n",
       " -0.500+0.000j |1111>,\n",
       " 1:  0.000+0.500j |0000> +\n",
       " -0.500+0.000j |0011> +\n",
       "  0.500+0.000j |1100> +\n",
       "  0.000+0.500j |1111>,\n",
       " 2:  0.000+0.500j |0000> +\n",
       "  0.500+0.000j |0011> +\n",
       " -0.500+0.000j |1100> +\n",
       "  0.000+0.500j |1111>,\n",
       " 3: -0.500+0.000j |0000> +\n",
       "  0.000-0.500j |0011> +\n",
       "  0.000-0.500j |1100> +\n",
       "  0.500+0.000j |1111>}"
      ]
     },
     "execution_count": 786,
     "metadata": {},
     "output_type": "execute_result"
    }
   ],
   "source": [
    "solutions = {}\n",
    "for i in range(arr.shape[0]):\n",
    "    state =  sym.QuantumState(arr[i,:].reshape([1,-1]), [1]) \n",
    "    solutions[i] = R.dagger * state\n",
    "    # solutions[i] = state\n",
    "\n",
    "solutions"
   ]
  },
  {
   "cell_type": "code",
   "execution_count": null,
   "id": "fc6dee84",
   "metadata": {},
   "outputs": [
    {
     "data": {
      "text/plain": [
       " 0.500+0.500j |0000> +\n",
       "-0.500+0.500j |0011> +\n",
       " 0.500+0.500j |1100> +\n",
       "-0.500+0.500j |1111>"
      ]
     },
     "execution_count": 480,
     "metadata": {},
     "output_type": "execute_result"
    }
   ],
   "source": [
    "solutions[1] - solutions[3]"
   ]
  },
  {
   "cell_type": "code",
   "execution_count": null,
   "id": "89500501",
   "metadata": {},
   "outputs": [
    {
     "data": {
      "text/plain": [
       " 0.500+0.000j |0000> +\n",
       " 0.000-0.500j |0011> +\n",
       " 0.000-0.500j |1100> +\n",
       "-0.500+0.000j |1111>"
      ]
     },
     "execution_count": 468,
     "metadata": {},
     "output_type": "execute_result"
    }
   ],
   "source": [
    "solutions[0]"
   ]
  },
  {
   "cell_type": "code",
   "execution_count": null,
   "id": "7658e0ba",
   "metadata": {},
   "outputs": [
    {
     "data": {
      "text/plain": [
       "-1.000-1.000j |0011> +\n",
       " 1.000-1.000j |1100>"
      ]
     },
     "execution_count": 461,
     "metadata": {},
     "output_type": "execute_result"
    }
   ],
   "source": [
    "solutions[0] + solutions[1] - solutions[2] + solutions[3]"
   ]
  },
  {
   "cell_type": "code",
   "execution_count": null,
   "id": "ad23fa76",
   "metadata": {},
   "outputs": [
    {
     "data": {
      "text/plain": [
       " 0.000+0.500j |0000> +\n",
       "-0.500+0.000j |0011> +\n",
       " 0.500+0.000j |1100> +\n",
       " 0.000+0.500j |1111>"
      ]
     },
     "execution_count": 445,
     "metadata": {},
     "output_type": "execute_result"
    }
   ],
   "source": [
    "ind = 1\n",
    "\n",
    "state =  sym.QuantumState(arr[ind].reshape([1,-1]), [1]) \n",
    "R.dagger * statea"
   ]
  },
  {
   "cell_type": "code",
   "execution_count": null,
   "id": "3df4308f",
   "metadata": {},
   "outputs": [
    {
     "data": {
      "text/plain": []
     },
     "execution_count": 433,
     "metadata": {},
     "output_type": "execute_result"
    }
   ],
   "source": [
    "state =  sym.QuantumState(arr[3].reshape([1,-1]), [1]) \n",
    "Qy_inZ_basis * state"
   ]
  },
  {
   "cell_type": "code",
   "execution_count": null,
   "id": "d94bdbc8",
   "metadata": {},
   "outputs": [
    {
     "data": {
      "text/plain": []
     },
     "execution_count": 434,
     "metadata": {},
     "output_type": "execute_result"
    }
   ],
   "source": [
    "Qy * R.dagger * state"
   ]
  },
  {
   "cell_type": "code",
   "execution_count": null,
   "id": "5c510869",
   "metadata": {},
   "outputs": [
    {
     "data": {
      "text/plain": [
       "-0.500+0.000j |0000> +\n",
       " 0.000-0.500j |0011> +\n",
       " 0.000-0.500j |1100> +\n",
       " 0.500+0.000j |1111>"
      ]
     },
     "execution_count": 436,
     "metadata": {},
     "output_type": "execute_result"
    }
   ],
   "source": [
    "R.dagger * state"
   ]
  },
  {
   "cell_type": "code",
   "execution_count": null,
   "id": "7c465269",
   "metadata": {},
   "outputs": [
    {
     "name": "stdout",
     "output_type": "stream",
     "text": [
      "[]\n"
     ]
    }
   ],
   "source": [
    "\n",
    " \n",
    "letters = ['10', '11']\n",
    " \n",
    "# size of combination is set to 3\n",
    "a = itertools.combinations(letters, 3) \n",
    "y = [' '.join(i) for i in a]\n",
    " \n",
    "print(y)"
   ]
  },
  {
   "cell_type": "code",
   "execution_count": null,
   "id": "10aee7b8",
   "metadata": {},
   "outputs": [
    {
     "data": {
      "text/plain": [
       "[[2, 3]]"
      ]
     },
     "execution_count": 359,
     "metadata": {},
     "output_type": "execute_result"
    }
   ],
   "source": [
    "lst = [2, 3]\n",
    "combs = []\n",
    "\n",
    "els = [list(x) for x in itertools.combinations(lst, N)]\n",
    "els"
   ]
  },
  {
   "cell_type": "code",
   "execution_count": null,
   "id": "41cf9153",
   "metadata": {},
   "outputs": [
    {
     "data": {
      "text/plain": [
       "[2, 3, 2, 3]"
      ]
     },
     "execution_count": 358,
     "metadata": {},
     "output_type": "execute_result"
    }
   ],
   "source": [
    "lst"
   ]
  },
  {
   "cell_type": "code",
   "execution_count": null,
   "id": "9ab12e01",
   "metadata": {},
   "outputs": [
    {
     "data": {
      "text/plain": [
       "[2, 3, 2, 3]"
      ]
     },
     "execution_count": 352,
     "metadata": {},
     "output_type": "execute_result"
    }
   ],
   "source": [
    "lst"
   ]
  },
  {
   "cell_type": "code",
   "execution_count": null,
   "id": "0ab99fd0",
   "metadata": {},
   "outputs": [
    {
     "data": {
      "text/plain": [
       "[('10', '10'), ('10', '11'), ('11', '10'), ('11', '11')]"
      ]
     },
     "execution_count": 367,
     "metadata": {},
     "output_type": "execute_result"
    }
   ],
   "source": []
  },
  {
   "cell_type": "code",
   "execution_count": null,
   "id": "10c9620e",
   "metadata": {},
   "outputs": [
    {
     "data": {
      "text/plain": [
       "[('10', '10'), ('10', '11'), ('11', '10'), ('11', '11')]"
      ]
     },
     "execution_count": 365,
     "metadata": {},
     "output_type": "execute_result"
    }
   ],
   "source": []
  },
  {
   "cell_type": "code",
   "execution_count": null,
   "id": "bee18895",
   "metadata": {},
   "outputs": [
    {
     "data": {
      "text/plain": []
     },
     "execution_count": 466,
     "metadata": {},
     "output_type": "execute_result"
    }
   ],
   "source": [
    "Qy * sym.QuantumState([[1, 0, 0, 1]]) - Qy * sym.QuantumState([[0, 1, 1, 0]])"
   ]
  },
  {
   "cell_type": "code",
   "execution_count": null,
   "id": "99ee3e11",
   "metadata": {},
   "outputs": [],
   "source": []
  },
  {
   "cell_type": "code",
   "execution_count": 514,
   "id": "197df523",
   "metadata": {},
   "outputs": [],
   "source": [
    "state1 = sym.QuantumState([[0, 1, 1, 0]])\n",
    "state2 = sym.QuantumState([[1, 0, 0, 1]])"
   ]
  },
  {
   "cell_type": "code",
   "execution_count": 521,
   "id": "fba4ffa9",
   "metadata": {},
   "outputs": [
    {
     "data": {
      "text/plain": []
     },
     "execution_count": 521,
     "metadata": {},
     "output_type": "execute_result"
    }
   ],
   "source": [
    " Qx * (state1 - state2)"
   ]
  },
  {
   "cell_type": "code",
   "execution_count": 519,
   "id": "d2fae03d",
   "metadata": {},
   "outputs": [
    {
     "data": {
      "text/plain": [
       "0j"
      ]
     },
     "execution_count": 519,
     "metadata": {},
     "output_type": "execute_result"
    }
   ],
   "source": [
    "state1.dagger * Qy * state1"
   ]
  },
  {
   "cell_type": "code",
   "execution_count": 553,
   "id": "728ad925",
   "metadata": {},
   "outputs": [
    {
     "data": {
      "text/plain": [
       "-0.250+0.000j IIIIIIXY +\n",
       " 0.250+0.000j IIIIIIYX +\n",
       "-0.250+0.000j IIIIXYII +\n",
       " 0.250+0.000j IIIIYXII +\n",
       "-0.250+0.000j IIXYIIII +\n",
       " 0.250+0.000j IIYXIIII +\n",
       "-0.250+0.000j XYIIIIII +\n",
       " 0.250+0.000j YXIIIIII"
      ]
     },
     "execution_count": 553,
     "metadata": {},
     "output_type": "execute_result"
    }
   ],
   "source": [
    "Qy"
   ]
  },
  {
   "cell_type": "code",
   "execution_count": 583,
   "id": "d65c6ea8",
   "metadata": {},
   "outputs": [],
   "source": [
    "op  = Qy * Qx * Qz"
   ]
  },
  {
   "cell_type": "code",
   "execution_count": 584,
   "id": "8884ae79",
   "metadata": {},
   "outputs": [],
   "source": [
    "# op"
   ]
  },
  {
   "cell_type": "code",
   "execution_count": 585,
   "id": "b1849cfd",
   "metadata": {},
   "outputs": [],
   "source": [
    "vals, vecs = np.linalg.eigh(op.to_sparse_matrix.toarray())\n",
    "epsilon = 1e-12\n",
    "mask = np.abs(vals)<epsilon\n"
   ]
  },
  {
   "cell_type": "code",
   "execution_count": 590,
   "id": "abe02b29",
   "metadata": {},
   "outputs": [
    {
     "data": {
      "text/plain": [
       "array([ 45,  46,  47,  48,  49,  50,  51,  52,  53,  54,  55,  56,  57,\n",
       "        58,  59,  60,  61,  62,  63,  64,  65,  66,  67,  68,  69,  70,\n",
       "        71,  72,  73,  74,  75,  76,  77,  78,  79,  80,  81,  82,  83,\n",
       "        84,  85,  86,  87,  88,  89,  90,  91,  92,  93,  94,  95,  96,\n",
       "        97,  98,  99, 100, 101, 102, 103, 104, 105, 106, 107, 108, 109,\n",
       "       110, 111, 112, 113, 114, 115, 116, 117, 118, 119, 120, 121, 122,\n",
       "       123, 124, 125, 126, 127, 128, 129, 130, 131, 132, 133, 134, 135,\n",
       "       136, 137, 138, 139, 140, 141, 142, 143, 144, 145, 146, 147, 148,\n",
       "       149, 150, 151, 152, 153, 154, 155, 156, 157, 158, 159, 160, 161,\n",
       "       162, 163, 164, 165, 166, 167, 168, 169, 170, 171, 172, 173, 174,\n",
       "       175, 176, 177, 178, 179, 180, 181, 182, 183, 184, 185, 186, 187,\n",
       "       188, 189, 190, 191, 192, 193, 194, 195, 196, 197, 198, 199, 200,\n",
       "       201, 202, 203, 204, 205, 206, 207, 208, 209, 210])"
      ]
     },
     "execution_count": 590,
     "metadata": {},
     "output_type": "execute_result"
    }
   ],
   "source": [
    "indices = np.where(mask)[0]\n",
    "indices"
   ]
  },
  {
   "cell_type": "code",
   "execution_count": 591,
   "id": "2d846136",
   "metadata": {},
   "outputs": [],
   "source": [
    "index = indices[0]"
   ]
  },
  {
   "cell_type": "code",
   "execution_count": 596,
   "id": "b88730cb",
   "metadata": {},
   "outputs": [
    {
     "data": {
      "text/plain": [
       "-0.001+0.002j |01001001> +\n",
       " 0.000+0.002j |01001100> +\n",
       "-0.033+0.016j |01011000> +\n",
       " 0.006-0.005j |01011011> +\n",
       "-0.018-0.014j |01011110> +\n",
       " 0.003+0.002j |01100001> +\n",
       " 0.025-0.007j |01100010> +\n",
       " 0.058-0.007j |01100100> +\n",
       "-0.011-0.076j |01100111> +\n",
       " 0.226+0.060j |01101000> +\n",
       "-0.005+0.022j |01101011> +\n",
       " 0.019+0.032j |01101101> +\n",
       " 0.038-0.001j |01101110> +\n",
       "-0.250-0.047j |01110000> +\n",
       " 0.019-0.028j |01110011> +\n",
       "-0.023-0.001j |01110110> +\n",
       " 0.049-0.013j |01111001> +\n",
       "-0.029-0.096j |01111010> +\n",
       "-0.064+0.018j |01111100> +\n",
       " 0.018-0.042j |01111111> +\n",
       "-0.045+0.018j |10000000> +\n",
       " 0.007-0.005j |10000011> +\n",
       " 0.001-0.002j |10000101> +\n",
       "-0.000-0.002j |10000110> +\n",
       " 0.000+0.002j |10001001> +\n",
       "-0.003-0.002j |10010001> +\n",
       "-0.009+0.004j |10010010> +\n",
       "-0.026-0.009j |10010100> +\n",
       " 0.005+0.081j |10010111> +\n",
       "-0.112-0.036j |10011000> +\n",
       " 0.002-0.011j |10011011> +\n",
       "-0.001-0.019j |10011101> +\n",
       " 0.014-0.039j |10011110> +\n",
       "-0.016+0.002j |10100001> +\n",
       "-0.114-0.024j |10100100> +\n",
       " 0.003-0.011j |10100111> +\n",
       "-0.052+0.040j |10101101> +\n",
       "-0.026+0.013j |10110101> +\n",
       " 0.014+0.049j |10110110> +\n",
       " 0.015+0.047j |10111001>"
      ]
     },
     "execution_count": 596,
     "metadata": {},
     "output_type": "execute_result"
    }
   ],
   "source": [
    "psi = sym.QuantumState.from_array(vecs[:, index].reshape([-1, 1]))\n",
    "Qz * psi "
   ]
  },
  {
   "cell_type": "code",
   "execution_count": 597,
   "id": "0afccd42",
   "metadata": {},
   "outputs": [],
   "source": [
    "import scipy as sp"
   ]
  },
  {
   "cell_type": "code",
   "execution_count": null,
   "id": "0e39b67f",
   "metadata": {},
   "outputs": [],
   "source": []
  },
  {
   "cell_type": "code",
   "execution_count": 611,
   "id": "b22b6cbf",
   "metadata": {},
   "outputs": [],
   "source": [
    "Qy_mat = Qy.to_sparse_matrix.toarray()\n",
    "Qy_ns = sp.linalg.null_space(Qy_mat)\n",
    "\n",
    "# np.allclose(Qy_mat@Qy_ns[:,3], np.zeros(Qy_ns.shape[0]))\n",
    "\n",
    "Qz_mat = Qz.to_sparse_matrix.toarray()\n",
    "Qz_ns = sp.linalg.null_space(Qz_mat)\n",
    "\n",
    "Qx_mat = Qx.to_sparse_matrix.toarray()\n",
    "Qx_ns = sp.linalg.null_space(Qx_mat)"
   ]
  },
  {
   "cell_type": "code",
   "execution_count": 616,
   "id": "57598651",
   "metadata": {},
   "outputs": [
    {
     "data": {
      "text/plain": [
       "((256,), 256)"
      ]
     },
     "execution_count": 616,
     "metadata": {},
     "output_type": "execute_result"
    }
   ],
   "source": [
    "Qy_ns[:,3].shape, 2**(2*N)"
   ]
  },
  {
   "cell_type": "code",
   "execution_count": 644,
   "id": "fc6a81f8",
   "metadata": {},
   "outputs": [],
   "source": [
    "op  = Qy + Qx + Qz\n",
    "op_mat = op.to_sparse_matrix.toarray()\n",
    "op_ns = sp.linalg.null_space(op_mat)\n",
    "\n",
    "null_vecs = [sym.QuantumState.from_array(op_ns[:, i].reshape([-1,1])) for i in range(op_ns.shape[1])]"
   ]
  },
  {
   "cell_type": "code",
   "execution_count": 646,
   "id": "987cbb55",
   "metadata": {},
   "outputs": [
    {
     "name": "stdout",
     "output_type": "stream",
     "text": [
      " 1.000-0.000j |1100>\n",
      " 1.000-0.000j |1111>\n",
      " 1.000-0.000j |0011>\n",
      " 1.000-0.000j |0000>\n"
     ]
    }
   ],
   "source": [
    "for vec in null_vecs:\n",
    "    out_y = Qy*vec\n",
    "    out_x = Qx*vec\n",
    "    out_z = Qz*vec\n",
    "    if out_x.n_terms== 0 and out_y.n_terms==0 and out_z.n_terms == 0:\n",
    "        print(vec)\n"
   ]
  },
  {
   "cell_type": "code",
   "execution_count": null,
   "id": "e49a060b",
   "metadata": {},
   "outputs": [],
   "source": [
    "op  = Qy * Qx * Qz"
   ]
  },
  {
   "cell_type": "code",
   "execution_count": 651,
   "id": "151317df",
   "metadata": {},
   "outputs": [
    {
     "data": {
      "text/plain": [
       " 0.707+0.000j |1001> +\n",
       "-0.707+0.000j |0110>"
      ]
     },
     "execution_count": 651,
     "metadata": {},
     "output_type": "execute_result"
    }
   ],
   "source": [
    "psi = sym.QuantumState([[1,0,0,1],\n",
    "                  [0,1,1,0]], [1,-1]).normalize\n",
    "psi"
   ]
  },
  {
   "cell_type": "code",
   "execution_count": 653,
   "id": "8e9b8291",
   "metadata": {},
   "outputs": [
    {
     "data": {
      "text/plain": []
     },
     "execution_count": 653,
     "metadata": {},
     "output_type": "execute_result"
    }
   ],
   "source": [
    "Qy * psi"
   ]
  },
  {
   "cell_type": "code",
   "execution_count": 654,
   "id": "c1a7f2c4",
   "metadata": {},
   "outputs": [
    {
     "data": {
      "text/plain": []
     },
     "execution_count": 654,
     "metadata": {},
     "output_type": "execute_result"
    }
   ],
   "source": [
    "Qx * psi"
   ]
  },
  {
   "cell_type": "code",
   "execution_count": 655,
   "id": "70b5ee39",
   "metadata": {},
   "outputs": [
    {
     "data": {
      "text/plain": []
     },
     "execution_count": 655,
     "metadata": {},
     "output_type": "execute_result"
    }
   ],
   "source": [
    "Qz * psi"
   ]
  },
  {
   "cell_type": "code",
   "execution_count": 656,
   "id": "9b1a22de",
   "metadata": {},
   "outputs": [
    {
     "data": {
      "text/plain": []
     },
     "execution_count": 656,
     "metadata": {},
     "output_type": "execute_result"
    }
   ],
   "source": [
    "op*psi"
   ]
  },
  {
   "cell_type": "code",
   "execution_count": 692,
   "id": "a653217e",
   "metadata": {},
   "outputs": [],
   "source": [
    "op  = Qy + Qx +Qz\n",
    "\n",
    "vals, vecs = np.linalg.eigh(op.to_sparse_matrix.toarray())\n",
    "inds = np.where(np.abs(vals)<1e-12)[0]"
   ]
  },
  {
   "cell_type": "code",
   "execution_count": 693,
   "id": "24a46406",
   "metadata": {},
   "outputs": [],
   "source": [
    "valid_states = vecs[:, inds]"
   ]
  },
  {
   "cell_type": "code",
   "execution_count": 694,
   "id": "19165984",
   "metadata": {},
   "outputs": [],
   "source": [
    "psi = sym.QuantumState.from_array(valid_states[:,0].reshape([-1,1]))"
   ]
  },
  {
   "cell_type": "code",
   "execution_count": 696,
   "id": "21119887",
   "metadata": {},
   "outputs": [
    {
     "data": {
      "text/plain": [
       " 0.000+0.500j |0010>"
      ]
     },
     "execution_count": 696,
     "metadata": {},
     "output_type": "execute_result"
    }
   ],
   "source": [
    "Qy*psi"
   ]
  },
  {
   "cell_type": "code",
   "execution_count": null,
   "id": "7554d996",
   "metadata": {},
   "outputs": [],
   "source": []
  },
  {
   "cell_type": "code",
   "execution_count": null,
   "id": "05dc3ce0",
   "metadata": {},
   "outputs": [],
   "source": []
  }
 ],
 "metadata": {
  "kernelspec": {
   "display_name": "Python 3 (ipykernel)",
   "language": "python",
   "name": "python3"
  },
  "language_info": {
   "codemirror_mode": {
    "name": "ipython",
    "version": 3
   },
   "file_extension": ".py",
   "mimetype": "text/x-python",
   "name": "python",
   "nbconvert_exporter": "python",
   "pygments_lexer": "ipython3",
   "version": "3.9.18"
  }
 },
 "nbformat": 4,
 "nbformat_minor": 5
}
