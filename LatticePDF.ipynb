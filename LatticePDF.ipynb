{
 "cells": [
  {
   "cell_type": "markdown",
   "id": "3c17b55a",
   "metadata": {},
   "source": [
    "# Lattice PDF"
   ]
  },
  {
   "cell_type": "markdown",
   "id": "14177336",
   "metadata": {},
   "source": [
    "In this notebook, we will use the architecture developed previously to variationally find ground hadron states, $|P\\rangle$ and use these to generate the parton distribution function, $f_{q/h}(x)$"
   ]
  },
  {
   "cell_type": "markdown",
   "id": "af6875eb",
   "metadata": {},
   "source": [
    "The lattice PDF is given as: $$f_{q/h}(x) = \\int dz e^{ixP^+z} \\langle P| \\zeta(z) |P\\rangle$$ with $$\\zeta(z) = \\sum_{i,j = 0}^1 e^{iHt}\\chi^\\dagger_{2(z + i)}e^{-iHt}\\chi_{2j + 1}  $$"
   ]
  },
  {
   "cell_type": "markdown",
   "id": "49a94144",
   "metadata": {},
   "source": [
    "We utilize lightcone coordinates, so to keep this correlation funciton on the lightcone, we set $t = z$. $z$ represents the physical continuum coordinate, i.e. $z\\in\\mathbb{R}$ Mapping this to the lattice, we have to double the number of lattice points for each physical coordinate (to utilize the staggered fermion approach of ADD CITATION), i.e. $N = 2Z$ (capital letters correspond to cutoffs, $0 \\leq z \\leq Z$). For each $N$, we have to use $2N$ qubits to distinguish the two colors of red and green. "
   ]
  },
  {
   "cell_type": "code",
   "execution_count": 1,
   "id": "f156abf4",
   "metadata": {},
   "outputs": [],
   "source": [
    "from symmer import PauliwordOp, QuantumState\n",
    "from symmer.evolution import trotter\n",
    "from qiskit.quantum_info import SparsePauliOp\n",
    "from hamiltonian import H\n",
    "from basis_states import *\n",
    "from openfermion import *"
   ]
  },
  {
   "cell_type": "code",
   "execution_count": 5,
   "id": "4bae438e",
   "metadata": {},
   "outputs": [],
   "source": [
    "N = 4"
   ]
  },
  {
   "cell_type": "code",
   "execution_count": 6,
   "id": "723058e6",
   "metadata": {},
   "outputs": [],
   "source": [
    "full_ham = H(N)"
   ]
  },
  {
   "cell_type": "code",
   "execution_count": 7,
   "id": "6a99fa8f",
   "metadata": {},
   "outputs": [],
   "source": [
    "mesons, baryons = get_basis(N)"
   ]
  },
  {
   "cell_type": "code",
   "execution_count": 8,
   "id": "9f30d063",
   "metadata": {},
   "outputs": [],
   "source": [
    "oh_bin_dict = one_hot_to_binary_encoding(mesons)"
   ]
  },
  {
   "cell_type": "code",
   "execution_count": 9,
   "id": "c5ca8a36",
   "metadata": {},
   "outputs": [
    {
     "name": "stderr",
     "output_type": "stream",
     "text": [
      "/Users/carterm.gustin/anaconda3/envs/phd/lib/python3.9/site-packages/symmer/operators/base.py:400: ComplexWarning: Casting complex values to real discards the imaginary part\n",
      "  temp_mat[:matrix.shape[0],\n"
     ]
    }
   ],
   "source": [
    "Ham_meson = H_sector(full_ham, mesons)"
   ]
  },
  {
   "cell_type": "code",
   "execution_count": 10,
   "id": "bdcd3bac",
   "metadata": {},
   "outputs": [],
   "source": [
    "vals, vecs = np.linalg.eigh(Ham_meson.to_sparse_matrix.toarray())"
   ]
  },
  {
   "cell_type": "code",
   "execution_count": 11,
   "id": "e6cf1f19",
   "metadata": {},
   "outputs": [],
   "source": [
    "nonzero_vals = []\n",
    "non_trivial_vecs = []\n",
    "\n",
    "for i in range(len(vals)):\n",
    "    if vals[i] != 0:\n",
    "        nonzero_vals.append(vals[i])\n",
    "        non_trivial_vecs.append(vecs[:, i])"
   ]
  },
  {
   "cell_type": "code",
   "execution_count": 12,
   "id": "1355ae9b",
   "metadata": {},
   "outputs": [],
   "source": [
    "psi_vacuum = QuantumState.from_array(vecs[:, 0].reshape([-1, 1]))\n",
    "psi_meson = QuantumState.from_array(non_trivial_vecs[1].reshape([-1, 1]))\n",
    "meson_energy = nonzero_vals[1]\n",
    "vacuum_energy = nonzero_vals[0]"
   ]
  },
  {
   "cell_type": "code",
   "execution_count": 13,
   "id": "dc2d0843",
   "metadata": {},
   "outputs": [],
   "source": [
    "P_0 = revert_to_full_basis(psi_vacuum, oh_bin_dict, full_ham.n_qubits)\n",
    "P_meson = revert_to_full_basis(psi_meson, oh_bin_dict, full_ham.n_qubits)"
   ]
  },
  {
   "cell_type": "code",
   "execution_count": 14,
   "id": "6525de5c",
   "metadata": {},
   "outputs": [],
   "source": [
    "def zeta(z_val, num_qubits):\n",
    "    n = 2*z_val\n",
    "    zeta_op = PauliwordOp.empty(num_qubits)\n",
    "\n",
    "    exp_op_plus = full_ham.multiply_by_constant(1j * z_val)\n",
    "    exp_op_minus = full_ham.multiply_by_constant(-1j * z_val)\n",
    "\n",
    "    for i in range(0, 2):\n",
    "        for j in range(0, 2):\n",
    "            qubit_string_create = str(2 * (n + i)) + \"^\"\n",
    "            qubit_string_annihilate = str(2 * j + 1)\n",
    "            pauli_create = PauliwordOp.from_openfermion(jordan_wigner(FermionOperator(qubit_string_create)))\n",
    "            pauli_annihilate = PauliwordOp.from_openfermion(jordan_wigner(FermionOperator(qubit_string_annihilate)))\n",
    "            \n",
    "            if pauli_create.n_qubits < num_qubits:\n",
    "                missing_qubits_create = num_qubits - pauli_create.n_qubits\n",
    "                pauli_create = \\\n",
    "                    pauli_create.tensor(PauliwordOp.from_dictionary({'I'*missing_qubits_create: 1.0}))\n",
    "            if pauli_annihilate.n_qubits < num_qubits:\n",
    "                missing_qubits_annihilate = num_qubits - pauli_annihilate.n_qubits\n",
    "                pauli_annihilate = \\\n",
    "                    pauli_annihilate.tensor(PauliwordOp.from_dictionary({'I'*missing_qubits_annihilate: 1.0}))\n",
    "            zeta_op += trotter(exp_op_plus) * pauli_create * trotter(exp_op_minus) * pauli_annihilate\n",
    "    return zeta_op"
   ]
  },
  {
   "cell_type": "code",
   "execution_count": 15,
   "id": "eb10779d",
   "metadata": {},
   "outputs": [],
   "source": [
    "Z = zeta(1, full_ham.n_qubits)"
   ]
  },
  {
   "cell_type": "code",
   "execution_count": 15,
   "id": "262ec756",
   "metadata": {},
   "outputs": [
    {
     "data": {
      "text/plain": [
       "0j"
      ]
     },
     "execution_count": 15,
     "metadata": {},
     "output_type": "execute_result"
    }
   ],
   "source": [
    "P_meson.dagger * Z * P_meson"
   ]
  },
  {
   "cell_type": "code",
   "execution_count": null,
   "id": "9c05dd34",
   "metadata": {},
   "outputs": [],
   "source": []
  }
 ],
 "metadata": {
  "kernelspec": {
   "display_name": "Python 3 (ipykernel)",
   "language": "python",
   "name": "python3"
  },
  "language_info": {
   "codemirror_mode": {
    "name": "ipython",
    "version": 3
   },
   "file_extension": ".py",
   "mimetype": "text/x-python",
   "name": "python",
   "nbconvert_exporter": "python",
   "pygments_lexer": "ipython3",
   "version": "3.9.18"
  }
 },
 "nbformat": 4,
 "nbformat_minor": 5
}
